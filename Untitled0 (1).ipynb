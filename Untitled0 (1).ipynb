{
  "nbformat": 4,
  "nbformat_minor": 0,
  "metadata": {
    "colab": {
      "provenance": []
    },
    "kernelspec": {
      "name": "python3",
      "display_name": "Python 3"
    },
    "language_info": {
      "name": "python"
    }
  },
  "cells": [
    {
      "cell_type": "code",
      "execution_count": 1,
      "metadata": {
        "id": "PRic-tHDtr_T"
      },
      "outputs": [],
      "source": [
        "#Importamos librerías\n",
        "from datetime import datetime, date, time, timedelta\n",
        "import datetime\n",
        "import pandas as pd\n",
        "import numpy as np"
      ]
    },
    {
      "cell_type": "code",
      "source": [
        "#AÑO\n",
        "ahora = datetime.datetime.now()\n",
        "print(\"La fecha y hora actual es: \", ahora)\n",
        "\n",
        "#Este año\n",
        "anio = ahora.year\n",
        "print(\"El año es: \", anio)\n",
        "\n",
        "#Año proximo\n",
        "año_proximo = anio + 1\n",
        "print(\"El año próximo es: \", año_proximo)"
      ],
      "metadata": {
        "colab": {
          "base_uri": "https://localhost:8080/"
        },
        "id": "joYFZlrGt9h4",
        "outputId": "b50a143c-bd54-4c8d-f049-7c928f7c9c7c"
      },
      "execution_count": 2,
      "outputs": [
        {
          "output_type": "stream",
          "name": "stdout",
          "text": [
            "La fecha y hora actual es:  2025-09-20 15:22:06.448686\n",
            "El año es:  2025\n",
            "El año próximo es:  2026\n"
          ]
        }
      ]
    },
    {
      "cell_type": "code",
      "source": [
        "#Mes\n",
        "\n",
        "#Mes actual\n",
        "mes_actual = ahora.month\n",
        "print(\"El mes actual es: \", mes_actual)\n",
        "\n",
        "#Mes próximo\n",
        "mes_proximo = mes_actual + 1\n",
        "print(\"El mes próximo es: \", mes_proximo)\n",
        "\n",
        "#Cambio el tipo de dato\n",
        "print(type(mes_proximo))\n",
        "print(type(str(mes_proximo)))"
      ],
      "metadata": {
        "colab": {
          "base_uri": "https://localhost:8080/"
        },
        "id": "17zAoURiuArW",
        "outputId": "77e49e7a-764c-4d6c-c6c8-2a079b95b1ca"
      },
      "execution_count": 3,
      "outputs": [
        {
          "output_type": "stream",
          "name": "stdout",
          "text": [
            "El mes actual es:  9\n",
            "El mes próximo es:  10\n",
            "<class 'int'>\n",
            "<class 'str'>\n"
          ]
        }
      ]
    },
    {
      "cell_type": "code",
      "source": [
        "#DIA\n",
        "\n",
        "#Dia actual\n",
        "dia_actual = ahora.day\n",
        "print(\"El día actual es: \", dia_actual)\n",
        "\n",
        "#Dia próximo\n",
        "dia_proximo = dia_actual + 1\n",
        "print(\"El día próximo es: \", dia_proximo)"
      ],
      "metadata": {
        "colab": {
          "base_uri": "https://localhost:8080/"
        },
        "id": "Rcz0LWwAuBzc",
        "outputId": "317d2d76-8e3e-495b-df62-566becae16d0"
      },
      "execution_count": 4,
      "outputs": [
        {
          "output_type": "stream",
          "name": "stdout",
          "text": [
            "El día actual es:  20\n",
            "El día próximo es:  21\n"
          ]
        }
      ]
    },
    {
      "cell_type": "code",
      "source": [
        "#HORA\n",
        "\n",
        "#Hora GMT\n",
        "ahora = datetime.datetime.now()\n",
        "print(\"La hora Greenwich Mean Time (GMT) es: \", ahora)\n",
        "\n",
        "#Hora Argentina (Le restamos 3 horas)\n",
        "hora_arg = ahora - timedelta(hours=3)\n",
        "print(\"La hora en Argentina es:\", hora_arg)\n"
      ],
      "metadata": {
        "colab": {
          "base_uri": "https://localhost:8080/"
        },
        "id": "s9K3OS50uEZU",
        "outputId": "65a48927-489d-4020-e32f-4f12e2d7c89d"
      },
      "execution_count": 5,
      "outputs": [
        {
          "output_type": "stream",
          "name": "stdout",
          "text": [
            "La hora Greenwich Mean Time (GMT) es:  2025-09-20 15:22:40.100899\n",
            "La hora en Argentina es: 2025-09-20 12:22:40.100899\n"
          ]
        }
      ]
    },
    {
      "cell_type": "code",
      "source": [
        "# Formatear la hora\n",
        "hora_formateada = ahora.strftime(\"%Y-%m-%d %H:%M:%S\")\n",
        "\n",
        "# Imprimir la hora formateada\n",
        "print(\"La hora actual es:\", hora_formateada)"
      ],
      "metadata": {
        "colab": {
          "base_uri": "https://localhost:8080/"
        },
        "id": "YivTcCzSuG2y",
        "outputId": "07dbbea1-9881-478b-cfa2-cbd04c56e297"
      },
      "execution_count": 6,
      "outputs": [
        {
          "output_type": "stream",
          "name": "stdout",
          "text": [
            "La hora actual es: 2025-09-20 15:22:40\n"
          ]
        }
      ]
    },
    {
      "cell_type": "code",
      "source": [
        "#Cambio el tipo de dato, de string a enteros\n",
        "\n",
        "numero = \"15\"\n",
        "\n",
        "print(type(numero))\n",
        "\n",
        "print(f\"El numero ingresado es : {numero} y el tipo es:  {type(numero)} \")"
      ],
      "metadata": {
        "colab": {
          "base_uri": "https://localhost:8080/"
        },
        "id": "35PNBKpKuJT8",
        "outputId": "5a43bf7d-4c76-424c-87da-6b4045d218be"
      },
      "execution_count": 7,
      "outputs": [
        {
          "output_type": "stream",
          "name": "stdout",
          "text": [
            "<class 'str'>\n",
            "El numero ingresado es : 15 y el tipo es:  <class 'str'> \n"
          ]
        }
      ]
    },
    {
      "cell_type": "code",
      "source": [
        "#convertimos el dato de estring a enteros\n",
        "numero = int(numero)\n",
        "\n",
        "print(f\"El numero ingresado es : {numero} y el tipo es:  {type(numero)} \")\n"
      ],
      "metadata": {
        "colab": {
          "base_uri": "https://localhost:8080/"
        },
        "id": "E6wKTHqOuNm2",
        "outputId": "bf315fec-46e8-48a6-ceb2-4e2d95d0d442"
      },
      "execution_count": 8,
      "outputs": [
        {
          "output_type": "stream",
          "name": "stdout",
          "text": [
            "El numero ingresado es : 15 y el tipo es:  <class 'int'> \n"
          ]
        }
      ]
    },
    {
      "cell_type": "code",
      "source": [
        "#Cambio el tipo de dato, de string a enteros\n",
        "\n",
        "numero = \"10.1\"\n",
        "\n",
        "print(f\"El numero ingresado es : {numero} y el tipo es:  {type(numero)} \")"
      ],
      "metadata": {
        "colab": {
          "base_uri": "https://localhost:8080/"
        },
        "id": "lwziCVn3uQ6P",
        "outputId": "97b4da17-d20d-4e4e-f9ae-ebe92e493a78"
      },
      "execution_count": 9,
      "outputs": [
        {
          "output_type": "stream",
          "name": "stdout",
          "text": [
            "El numero ingresado es : 10.1 y el tipo es:  <class 'str'> \n"
          ]
        }
      ]
    },
    {
      "cell_type": "code",
      "source": [
        "#convertimos el dato de estring a enteros\n",
        "numero = float(numero)\n",
        "\n",
        "print(f\"El numero ingresado es : {numero} y el tipo es:  {type(numero)} \")"
      ],
      "metadata": {
        "colab": {
          "base_uri": "https://localhost:8080/"
        },
        "id": "5GaBG1bFuUX5",
        "outputId": "5d3c2b6a-f2c1-4ecf-d2b2-db9da99b2d66"
      },
      "execution_count": 10,
      "outputs": [
        {
          "output_type": "stream",
          "name": "stdout",
          "text": [
            "El numero ingresado es : 10.1 y el tipo es:  <class 'float'> \n"
          ]
        }
      ]
    },
    {
      "cell_type": "code",
      "source": [
        "\n",
        "# Notas de Matemática y Lengua\n",
        "df1 = pd.DataFrame({'Alumno': ['Alumno0', 'Alumno1', 'Alumno2'],\n",
        "                    'Matermática': ['5', '6', '7'],\n",
        "                    'Lengua': ['7', '7', '8']\n",
        "                    })\n",
        "\n",
        "# Notas de Historia y Geografía\n",
        "df2 = pd.DataFrame({'Alumno': ['Alumno0', 'Alumno2', 'Alumno3'],\n",
        "                    'Historia': ['4', '5', '4'],\n",
        "                    'Geografía': ['6', '7', '9']\n",
        "                    })\n",
        "\n",
        "# Mostramos los dataframes\n",
        "print(df1)\n",
        "print('           ')\n",
        "print(df2)\n"
      ],
      "metadata": {
        "colab": {
          "base_uri": "https://localhost:8080/"
        },
        "id": "efUuQSFSuY7p",
        "outputId": "8e5fc7b7-f387-4dec-c393-b6e2aeefdb64"
      },
      "execution_count": 11,
      "outputs": [
        {
          "output_type": "stream",
          "name": "stdout",
          "text": [
            "    Alumno Matermática Lengua\n",
            "0  Alumno0           5      7\n",
            "1  Alumno1           6      7\n",
            "2  Alumno2           7      8\n",
            "           \n",
            "    Alumno Historia Geografía\n",
            "0  Alumno0        4         6\n",
            "1  Alumno2        5         7\n",
            "2  Alumno3        4         9\n"
          ]
        }
      ]
    },
    {
      "cell_type": "code",
      "source": [
        "# Hacemos join de los dataframes y mostramos las notas\n",
        "\n",
        "merged_df = pd.merge(df1, df2, on='Alumno', how='right')\n",
        "print(merged_df)"
      ],
      "metadata": {
        "colab": {
          "base_uri": "https://localhost:8080/"
        },
        "id": "sVkfPIHuuaEt",
        "outputId": "9757d646-97cf-4aca-cda1-7cdde3c1124d"
      },
      "execution_count": 12,
      "outputs": [
        {
          "output_type": "stream",
          "name": "stdout",
          "text": [
            "    Alumno Matermática Lengua Historia Geografía\n",
            "0  Alumno0           5      7        4         6\n",
            "1  Alumno2           7      8        5         7\n",
            "2  Alumno3         NaN    NaN        4         9\n"
          ]
        }
      ]
    },
    {
      "cell_type": "code",
      "source": [
        "#Reemplazamos nulos por ceros\n",
        "\n",
        "# Creando un DataFrame\n",
        "df = pd.DataFrame({'columna1': [1, 2, None, 4],\n",
        "                   'columna2': [5, None, None, 8]})\n",
        "\n",
        "print(df)\n"
      ],
      "metadata": {
        "colab": {
          "base_uri": "https://localhost:8080/"
        },
        "id": "mh2YC5HTuco4",
        "outputId": "7ac63dc1-586d-407a-f2ce-e80626d32a44"
      },
      "execution_count": 13,
      "outputs": [
        {
          "output_type": "stream",
          "name": "stdout",
          "text": [
            "   columna1  columna2\n",
            "0       1.0       5.0\n",
            "1       2.0       NaN\n",
            "2       NaN       NaN\n",
            "3       4.0       8.0\n"
          ]
        }
      ]
    },
    {
      "cell_type": "code",
      "source": [
        "# Rellenando los valores nulos con 0\n",
        "\n",
        "df = df.fillna(0) #Podemos reemplazar el cero por el valor que necesitemos\n",
        "print(df)"
      ],
      "metadata": {
        "colab": {
          "base_uri": "https://localhost:8080/"
        },
        "id": "atvVtCxbugCv",
        "outputId": "c42b2f29-62df-43d8-8710-225423f97fe9"
      },
      "execution_count": 14,
      "outputs": [
        {
          "output_type": "stream",
          "name": "stdout",
          "text": [
            "   columna1  columna2\n",
            "0       1.0       5.0\n",
            "1       2.0       0.0\n",
            "2       0.0       0.0\n",
            "3       4.0       8.0\n"
          ]
        }
      ]
    },
    {
      "cell_type": "code",
      "source": [
        "# Creamos un DataFrame de ejemplo\n",
        "data = {'producto': ['A', 'B', 'C', 'D'],\n",
        "        'precio': [5, 15, 8, 20]}\n",
        "df = pd.DataFrame(data)\n",
        "\n",
        "print(df)\n"
      ],
      "metadata": {
        "colab": {
          "base_uri": "https://localhost:8080/"
        },
        "id": "z87NPG0Zu9PS",
        "outputId": "87a1b823-7594-4387-b2aa-b8157f6e826b"
      },
      "execution_count": 15,
      "outputs": [
        {
          "output_type": "stream",
          "name": "stdout",
          "text": [
            "  producto  precio\n",
            "0        A       5\n",
            "1        B      15\n",
            "2        C       8\n",
            "3        D      20\n"
          ]
        }
      ]
    },
    {
      "cell_type": "code",
      "source": [
        "# Filtrar los productos con precio menor a 10\n",
        "df_filtrado = df[df['precio'] < 10]\n",
        "print(df_filtrado)"
      ],
      "metadata": {
        "colab": {
          "base_uri": "https://localhost:8080/"
        },
        "id": "SlrFuY8wvCGI",
        "outputId": "5bb5075f-a38a-423f-fd78-d83f68c6f8a9"
      },
      "execution_count": 16,
      "outputs": [
        {
          "output_type": "stream",
          "name": "stdout",
          "text": [
            "  producto  precio\n",
            "0        A       5\n",
            "2        C       8\n"
          ]
        }
      ]
    },
    {
      "cell_type": "code",
      "source": [
        "# Creamos un DataFrame de ejemplo\n",
        "data = {'nombre': ['Ana', 'Pedro', 'María'],\n",
        "        'edad': [30, 25, 32],\n",
        "        'ciudad': ['Madrid', 'Barcelona', 'Sevilla'],\n",
        "        'correo': ['ana@example.com', 'pedro@example.com', 'maria@example.com'],\n",
        "        'telefono': [123456789, 987654321, 567891234]}\n",
        "df = pd.DataFrame(data)\n",
        "\n",
        "print(df)"
      ],
      "metadata": {
        "colab": {
          "base_uri": "https://localhost:8080/"
        },
        "id": "53CCPcaxvEz7",
        "outputId": "b76a0f76-73d3-468c-8fd7-4f8820aa4cc5"
      },
      "execution_count": 17,
      "outputs": [
        {
          "output_type": "stream",
          "name": "stdout",
          "text": [
            "  nombre  edad     ciudad             correo   telefono\n",
            "0    Ana    30     Madrid    ana@example.com  123456789\n",
            "1  Pedro    25  Barcelona  pedro@example.com  987654321\n",
            "2  María    32    Sevilla  maria@example.com  567891234\n"
          ]
        }
      ]
    },
    {
      "cell_type": "code",
      "source": [
        "# Eliminar las columnas 'correo' y 'telefono'\n",
        "columnas_a_eliminar = ['correo', 'telefono']\n",
        "\n",
        "#axis=1: Se refiere a las columnas.\n",
        "#inplace=True: modifica el DataFrame original en lugar de crear una copia y realizar los cambios en ella\n",
        "df.drop(columnas_a_eliminar, axis=1, inplace=True)\n",
        "\n",
        "print(df)"
      ],
      "metadata": {
        "colab": {
          "base_uri": "https://localhost:8080/"
        },
        "id": "U3rQAyobvMuY",
        "outputId": "bce17faf-f3dd-4a95-d8c5-1acff65af514"
      },
      "execution_count": 18,
      "outputs": [
        {
          "output_type": "stream",
          "name": "stdout",
          "text": [
            "  nombre  edad     ciudad\n",
            "0    Ana    30     Madrid\n",
            "1  Pedro    25  Barcelona\n",
            "2  María    32    Sevilla\n"
          ]
        }
      ]
    },
    {
      "cell_type": "code",
      "source": [
        "#EJERCICIOS\n",
        "#1. Transformación de Fechas y Horas: Crea un script que calcule y muestre la fecha del próximo lunes.\n",
        "#Pista: Usa la librería datetime.\n",
        "\n",
        "import datetime\n",
        "\n",
        "# Obtener la fecha actual\n",
        "today = datetime.date.today()\n",
        "\n",
        "# Calcular el día de la semana de hoy (lunes es 0, domingo es 6)\n",
        "today_weekday = today.weekday()\n",
        "\n",
        "# Calcular la diferencia de días hasta el próximo lunes\n",
        "# Si hoy es lunes (0), el próximo lunes es en 7 días.\n",
        "# Si hoy es martes (1), el próximo lunes es en 6 días (7 - 1).\n",
        "# Si hoy es domingo (6), el próximo lunes es en 1 día (7 - 6).\n",
        "days_until_next_monday = (7 - today_weekday) % 7\n",
        "\n",
        "# Si hoy es lunes, days_until_next_monday será 0. En este caso, queremos el próximo lunes, que es en 7 días.\n",
        "if days_until_next_monday == 0:\n",
        "    days_until_next_monday = 7\n",
        "\n",
        "\n",
        "# Calcular la fecha del próximo lunes\n",
        "next_monday = today + datetime.timedelta(days=days_until_next_monday)\n",
        "\n",
        "# Mostrar la fecha del próximo lunes\n",
        "print(\"La fecha del próximo lunes es:\", next_monday)"
      ],
      "metadata": {
        "colab": {
          "base_uri": "https://localhost:8080/"
        },
        "id": "abajsxp2vPvS",
        "outputId": "22e50eed-8782-4c0a-b625-2ce6142cda91"
      },
      "execution_count": 19,
      "outputs": [
        {
          "output_type": "stream",
          "name": "stdout",
          "text": [
            "La fecha del próximo lunes es: 2025-09-22\n"
          ]
        }
      ]
    },
    {
      "cell_type": "code",
      "source": [
        "#2.Transformación de Strings a Números: Convierte la cadena \"99.5\" a un tipo de dato flotante y luego a un tipo de dato entero. ¿Qué sucede con el valor decimal al hacer la conversión final?\n",
        "\n",
        "# Cadena a convertir\n",
        "cadena_numero = \"99.5\"\n",
        "\n",
        "# Convertir a flotante\n",
        "numero_flotante = float(cadena_numero)\n",
        "print(f\"La cadena '{cadena_numero}' convertida a flotante es: {numero_flotante} (Tipo: {type(numero_flotante)})\")\n",
        "\n",
        "# Convertir a entero\n",
        "numero_entero = int(numero_flotante)\n",
        "print(f\"El número flotante {numero_flotante} convertido a entero es: {numero_entero} (Tipo: {type(numero_entero)})\")\n",
        "\n",
        "# Explicación de lo que sucede con el valor decimal\n",
        "print(\"\\nAl convertir un número flotante a un tipo de dato entero, se trunca la parte decimal.\")\n",
        "print(\"Es decir, se elimina la parte decimal sin redondear.\")"
      ],
      "metadata": {
        "colab": {
          "base_uri": "https://localhost:8080/"
        },
        "id": "Tr7C2W86vpe0",
        "outputId": "c4079cf7-1266-43da-e035-08a63344579c"
      },
      "execution_count": 21,
      "outputs": [
        {
          "output_type": "stream",
          "name": "stdout",
          "text": [
            "La cadena '99.5' convertida a flotante es: 99.5 (Tipo: <class 'float'>)\n",
            "El número flotante 99.5 convertido a entero es: 99 (Tipo: <class 'int'>)\n",
            "\n",
            "Al convertir un número flotante a un tipo de dato entero, se trunca la parte decimal.\n",
            "Es decir, se elimina la parte decimal sin redondear.\n"
          ]
        }
      ]
    },
    {
      "cell_type": "code",
      "source": [
        "#3. Filtrado de Datos: Dado el siguiente DataFrame, filtra los datos para mostrar solo las ventas que superan los 500 y son del producto 'A'.\n",
        "\n",
        "data = {'producto': ['A', 'B', 'A', 'C'], 'ventas': [600, 450, 750, 300]}\n",
        "df = pd.DataFrame(data)\n",
        "print(df)\n",
        "filtered_df = df[(df['ventas'] > 500) & (df['producto'] == 'A')]\n",
        "print(filtered_df)\n",
        "\n"
      ],
      "metadata": {
        "colab": {
          "base_uri": "https://localhost:8080/"
        },
        "id": "jtnUUPVcv20J",
        "outputId": "0b419900-53bf-49f2-fc3c-fd2843de1988"
      },
      "execution_count": 22,
      "outputs": [
        {
          "output_type": "stream",
          "name": "stdout",
          "text": [
            "  producto  ventas\n",
            "0        A     600\n",
            "1        B     450\n",
            "2        A     750\n",
            "3        C     300\n",
            "  producto  ventas\n",
            "0        A     600\n",
            "2        A     750\n"
          ]
        }
      ]
    },
    {
      "cell_type": "code",
      "source": [
        "#4. Agrupación y Agregación de Datos: Utiliza el DataFrame anterior y agrúpalo por 'producto' para calcular la suma total de 'ventas' por cada producto.\n",
        "data = {'producto': ['A', 'B', 'A', 'C'], 'ventas': [600, 450, 750, 300]}\n",
        "df = pd.DataFrame(data)\n",
        "print(df)\n",
        "\n",
        "df_grouped = df.groupby('producto')['ventas'].sum()\n",
        "print(df_grouped)\n"
      ],
      "metadata": {
        "colab": {
          "base_uri": "https://localhost:8080/"
        },
        "id": "oYspZb0iwEue",
        "outputId": "eba9855f-2bfb-4b5a-bd88-73d301184a95"
      },
      "execution_count": 24,
      "outputs": [
        {
          "output_type": "stream",
          "name": "stdout",
          "text": [
            "  producto  ventas\n",
            "0        A     600\n",
            "1        B     450\n",
            "2        A     750\n",
            "3        C     300\n",
            "producto\n",
            "A    1350\n",
            "B     450\n",
            "C     300\n",
            "Name: ventas, dtype: int64\n"
          ]
        }
      ]
    },
    {
      "cell_type": "code",
      "source": [
        "#5. Unión de DataFrames: Tienes dos DataFrames, uno con datos de empleados y otro con sus salarios. Únelos para que en un solo DataFrame aparezca el nombre del empleado y su salario.\n",
        "df_empleados = pd.DataFrame({'id_empleado': [101, 102, 103], 'nombre': ['Juan', 'María', 'Pedro']})\n",
        "df_salarios = pd.DataFrame({'id_empleado': [102, 101, 103], 'salario': [50000, 60000, 75000]})\n",
        "print(df_empleados)\n",
        "print(df_salarios)\n",
        "\n",
        "df_merged = pd.merge(df_empleados, df_salarios, on='id_empleado')\n",
        "print(df_merged)"
      ],
      "metadata": {
        "colab": {
          "base_uri": "https://localhost:8080/"
        },
        "id": "hfQhkhJfwKHj",
        "outputId": "caeab34d-bb46-48c4-8343-8b87f5fa9dd1"
      },
      "execution_count": 26,
      "outputs": [
        {
          "output_type": "stream",
          "name": "stdout",
          "text": [
            "   id_empleado nombre\n",
            "0          101   Juan\n",
            "1          102  María\n",
            "2          103  Pedro\n",
            "   id_empleado  salario\n",
            "0          102    50000\n",
            "1          101    60000\n",
            "2          103    75000\n",
            "   id_empleado nombre  salario\n",
            "0          101   Juan    60000\n",
            "1          102  María    50000\n",
            "2          103  Pedro    75000\n"
          ]
        }
      ]
    },
    {
      "cell_type": "code",
      "source": [
        "#6. Reemplazo de Valores: En el siguiente DataFrame, reemplaza todos los valores None en la columna 'edad' por el valor de la edad promedio de la columna.\n",
        "data = {'nombre': ['Ana', 'Luis', 'Sofía'], 'edad': [25, np.nan, 30]}\n",
        "df = pd.DataFrame(data)\n",
        "print(df)\n",
        "\n",
        "edad_promedio = df['edad'].mean()\n",
        "df['edad'].fillna(edad_promedio, inplace=True)\n",
        "print(df)"
      ],
      "metadata": {
        "colab": {
          "base_uri": "https://localhost:8080/"
        },
        "id": "0N74-RPdwpvv",
        "outputId": "44482784-380e-4e0e-8c9e-04115ac349f5"
      },
      "execution_count": 28,
      "outputs": [
        {
          "output_type": "stream",
          "name": "stdout",
          "text": [
            "  nombre  edad\n",
            "0    Ana  25.0\n",
            "1   Luis   NaN\n",
            "2  Sofía  30.0\n",
            "  nombre  edad\n",
            "0    Ana  25.0\n",
            "1   Luis  27.5\n",
            "2  Sofía  30.0\n"
          ]
        },
        {
          "output_type": "stream",
          "name": "stderr",
          "text": [
            "/tmp/ipython-input-1020121354.py:7: FutureWarning: A value is trying to be set on a copy of a DataFrame or Series through chained assignment using an inplace method.\n",
            "The behavior will change in pandas 3.0. This inplace method will never work because the intermediate object on which we are setting values always behaves as a copy.\n",
            "\n",
            "For example, when doing 'df[col].method(value, inplace=True)', try using 'df.method({col: value}, inplace=True)' or df[col] = df[col].method(value) instead, to perform the operation inplace on the original object.\n",
            "\n",
            "\n",
            "  df['edad'].fillna(edad_promedio, inplace=True)\n"
          ]
        }
      ]
    },
    {
      "cell_type": "code",
      "source": [
        "#7. Eliminación de Filas: Dado el DataFrame anterior, elimina la fila que contiene el valor None\n",
        "data = {'nombre': ['Ana', 'Luis', 'Sofía'], 'edad': [25, np.nan, 30]}\n",
        "df = pd.DataFrame(data)\n",
        "print(df)\n",
        "df_sin_none = df.dropna()\n",
        "print(df_sin_none)"
      ],
      "metadata": {
        "colab": {
          "base_uri": "https://localhost:8080/"
        },
        "id": "-HnOe7lLw8ro",
        "outputId": "41532da0-c8ba-4ce3-c024-0cb6af8a9d1d"
      },
      "execution_count": 30,
      "outputs": [
        {
          "output_type": "stream",
          "name": "stdout",
          "text": [
            "  nombre  edad\n",
            "0    Ana  25.0\n",
            "1   Luis   NaN\n",
            "2  Sofía  30.0\n",
            "  nombre  edad\n",
            "0    Ana  25.0\n",
            "2  Sofía  30.0\n"
          ]
        }
      ]
    },
    {
      "cell_type": "code",
      "source": [
        "#8. Transformación de Datos de una Columna: En el siguiente DataFrame, convierte todos los valores de la columna 'ciudad' a mayúsculas.\n",
        "df_ciudades = pd.DataFrame({'ciudad': ['madrid', 'barcelona', 'sevilla']})\n",
        "\n",
        "# Convertir la columna 'ciudad' a mayúsculas\n",
        "df_ciudades['ciudad'] = df_ciudades['ciudad'].str.upper()\n",
        "\n",
        "# Mostrar el DataFrame con la columna modificada\n",
        "print(df_ciudades)"
      ],
      "metadata": {
        "colab": {
          "base_uri": "https://localhost:8080/"
        },
        "id": "moh_4C3lxFim",
        "outputId": "1cce6315-5900-4cb1-d860-ac2f644c3083"
      },
      "execution_count": 32,
      "outputs": [
        {
          "output_type": "stream",
          "name": "stdout",
          "text": [
            "      ciudad\n",
            "0     MADRID\n",
            "1  BARCELONA\n",
            "2    SEVILLA\n"
          ]
        }
      ]
    },
    {
      "cell_type": "code",
      "source": [
        "#9. Creación de una Nueva Columna: Usando el DataFrame de df_ciudades, crea una nueva columna llamada 'país' y asigna el valor 'España' a todas las filas.\n",
        "df_ciudades = pd.DataFrame({'ciudad': ['madrid', 'barcelona', 'sevilla']})\n",
        "\n",
        "# Crear la columna 'país' y asignar el valor 'España' a todas las filas\n",
        "df_ciudades['pais'] = 'España'\n",
        "print(df_ciudades)\n"
      ],
      "metadata": {
        "colab": {
          "base_uri": "https://localhost:8080/"
        },
        "id": "7l4v_7_vxW9B",
        "outputId": "b1c055f4-41d1-46be-f823-2b29e47b3cb0"
      },
      "execution_count": 37,
      "outputs": [
        {
          "output_type": "stream",
          "name": "stdout",
          "text": [
            "      ciudad    pais\n",
            "0     madrid  España\n",
            "1  barcelona  España\n",
            "2    sevilla  España\n"
          ]
        }
      ]
    },
    {
      "cell_type": "code",
      "source": [
        "#10. Eliminar Duplicados: En el siguiente DataFrame, elimina las filas duplicadas.\n",
        "df_duplicados = pd.DataFrame({'A': [1, 2, 2, 3], 'B': ['x', 'y', 'y', 'z']})\n",
        "print(df_duplicados)\n",
        "\n",
        "# Eliminar las filas duplicadas\n",
        "df_sin_duplicados = df_duplicados.drop_duplicates()\n",
        "\n",
        "# Mostrar el DataFrame sin duplicados\n",
        "print(df_sin_duplicados)"
      ],
      "metadata": {
        "colab": {
          "base_uri": "https://localhost:8080/"
        },
        "id": "Y7mnksjOxlKv",
        "outputId": "43a798f8-03d2-4270-f61f-c0a9a0b4bd76"
      },
      "execution_count": 38,
      "outputs": [
        {
          "output_type": "stream",
          "name": "stdout",
          "text": [
            "   A  B\n",
            "0  1  x\n",
            "1  2  y\n",
            "2  2  y\n",
            "3  3  z\n",
            "   A  B\n",
            "0  1  x\n",
            "1  2  y\n",
            "3  3  z\n"
          ]
        }
      ]
    }
  ]
}